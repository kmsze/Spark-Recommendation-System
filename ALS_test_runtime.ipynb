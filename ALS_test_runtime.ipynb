{
 "cells": [
  {
   "cell_type": "code",
   "execution_count": 4,
   "metadata": {},
   "outputs": [],
   "source": [
    "from pyspark.ml.evaluation import RegressionEvaluator\n",
    "from pyspark.ml.recommendation import ALS\n",
    "from pyspark.sql import Row\n",
    "import time"
   ]
  },
  {
   "cell_type": "code",
   "execution_count": 2,
   "metadata": {},
   "outputs": [],
   "source": [
    "lines = spark.read.text(\"./ml-1m/ratings.dat\").rdd\n",
    "parts = lines.map(lambda row: row.value.split(\"::\"))\n",
    "ratingsRDD = parts.map(lambda p: Row(userId=int(p[0]), movieId=int(p[1]),\n",
    "                                     rating=float(p[2]), timestamp=long(p[3])))\n",
    "ratings = spark.createDataFrame(ratingsRDD)"
   ]
  },
  {
   "cell_type": "code",
   "execution_count": 5,
   "metadata": {},
   "outputs": [
    {
     "name": "stdout",
     "output_type": "stream",
     "text": [
      "+------+--------------------+\n",
      "|userId|     recommendations|\n",
      "+------+--------------------+\n",
      "|  1580|[[1117, 8.102555]...|\n",
      "|  4900|[[2197, 8.385013]...|\n",
      "|  5300|[[557, 6.2516136]...|\n",
      "|   471|[[1574, 7.5863457...|\n",
      "|  1591|[[557, 6.6849155]...|\n",
      "|  4101|[[2964, 8.401183]...|\n",
      "|  1342|[[572, 5.842007],...|\n",
      "|  2122|[[3303, 6.305458]...|\n",
      "|  2142|[[572, 6.119941],...|\n",
      "|   463|[[1809, 6.2130394...|\n",
      "|   833|[[2129, 8.558647]...|\n",
      "|  5803|[[1539, 11.67529]...|\n",
      "|  3794|[[3803, 7.69864],...|\n",
      "|  1645|[[3012, 7.7738795...|\n",
      "|  3175|[[2192, 6.822809]...|\n",
      "|  4935|[[1574, 8.41127],...|\n",
      "|   496|[[2342, 9.117386]...|\n",
      "|  2366|[[3944, 6.633491]...|\n",
      "|  2866|[[980, 6.244044],...|\n",
      "|  5156|[[2933, 7.774223]...|\n",
      "+------+--------------------+\n",
      "only showing top 20 rows\n",
      "\n",
      "40.3847749233\n"
     ]
    }
   ],
   "source": [
    "start = time.time()\n",
    "als = ALS(maxIter=10, regParam=0.01, userCol=\"userId\", itemCol=\"movieId\", ratingCol=\"rating\",\n",
    "          coldStartStrategy=\"drop\")\n",
    "model = als.fit(ratings)\n",
    "recommendations = model.recommendForAllUsers(5)\n",
    "recommendations.show()\n",
    "print(time.time() - start)"
   ]
  },
  {
   "cell_type": "code",
   "execution_count": null,
   "metadata": {},
   "outputs": [],
   "source": []
  }
 ],
 "metadata": {
  "kernelspec": {
   "display_name": "Python 2",
   "language": "python",
   "name": "python2"
  },
  "language_info": {
   "codemirror_mode": {
    "name": "ipython",
    "version": 2
   },
   "file_extension": ".py",
   "mimetype": "text/x-python",
   "name": "python",
   "nbconvert_exporter": "python",
   "pygments_lexer": "ipython2",
   "version": "2.7.10"
  }
 },
 "nbformat": 4,
 "nbformat_minor": 2
}
