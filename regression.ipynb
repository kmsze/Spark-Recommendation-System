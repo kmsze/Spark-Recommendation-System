{
 "cells": [
  {
   "cell_type": "code",
   "execution_count": 1,
   "metadata": {},
   "outputs": [],
   "source": [
    "from pyspark.ml import Pipeline\n",
    "from pyspark.ml.linalg import Vectors\n",
    "from pyspark.ml.regression import LinearRegression, RandomForestRegressor, GBTRegressor\n",
    "from pyspark.ml.feature import *\n",
    "from pyspark.ml.evaluation import RegressionEvaluator\n",
    "from pyspark.ml.tuning import CrossValidator, ParamGridBuilder\n",
    "from pyspark.sql import Row\n",
    "from pyspark.sql.functions import *\n",
    "from pyspark.sql.types import *"
   ]
  },
  {
   "cell_type": "code",
   "execution_count": 2,
   "metadata": {},
   "outputs": [],
   "source": [
    "# Load movies.csv data to spark SQL dataframe\n",
    "df_movies = spark.read.csv(\"./dataset/movies.csv\", header=True, inferSchema=True)\n",
    "\n",
    "# Load ratings.csv data to spark SQL dataframe and drop timestamp column\n",
    "df_ratings = spark.read.csv(\"./dataset/ratings.csv\", header=True, inferSchema=True)\n",
    "df_ratings = df_ratings.drop(\"timestamp\")"
   ]
  },
  {
   "cell_type": "code",
   "execution_count": 3,
   "metadata": {},
   "outputs": [],
   "source": [
    "genre_list = [\n",
    "    \"Action\", \"Adventure\", \"Animation\", \"Children's\",\n",
    "    \"Comedy\", \"Crime\", \"Documentary\", \"Drama\",\n",
    "    \"Fantasy\", \"Film-Noir\", \"Horror\", \"Musical\",\n",
    "    \"Mystery\", \"Romance\", \"Sci-Fi\", \"Thriller\",\n",
    "    \"War\", \"Western\"\n",
    "]\n",
    "\n",
    "def add_genre_list(genre_str, genre_name):\n",
    "    if genre_name in genre_str:\n",
    "        return 1\n",
    "    else:\n",
    "        return 0\n",
    "\n",
    "def udf_score(label_list):\n",
    "    return udf(lambda l: add_genre_list(l, label_list))\n",
    "    \n",
    "slen = udf(add_genre_list, IntegerType())\n",
    "\n",
    "# Break down each genre into a separate column, assign 1 to it if the movie contains the genre\n",
    "# Otherwise, assign 0\n",
    "for genre_name in genre_list:\n",
    "    df_movies = df_movies.withColumn(genre_name, udf_score(genre_name)(col(\"genres\")))\n",
    "\n",
    "# Drop genre and title column since it is no longer needed\n",
    "df_movies = df_movies.drop(\"genres\")\n",
    "df_movies = df_movies.drop(\"title\")\n",
    "\n",
    "# Join ratings and movies dataframe together by its movie ID\n",
    "df = df_ratings.join(df_movies, \"movieId\")"
   ]
  },
  {
   "cell_type": "code",
   "execution_count": 4,
   "metadata": {},
   "outputs": [],
   "source": [
    "column_list = [\"movieId\", \"userId\", \"Action\", \"Adventure\", \"Animation\", \"Children's\", \"Comedy\",\n",
    "               \"Crime\", \"Documentary\", \"Drama\", \"Fantasy\", \"Film-Noir\", \"Horror\", \"Musical\",\n",
    "               \"Mystery\", \"Romance\", \"Sci-Fi\", \"Thriller\", \"War\", \"Western\"]\n",
    "\n",
    "# Cast values in all columns (except rating column) to integer\n",
    "for col in column_list:\n",
    "    df = df.withColumn(col, df[col].cast(\"int\"))\n",
    "\n",
    "# Rename rating column as label\n",
    "df = df.withColumnRenamed(\"rating\", \"label\")"
   ]
  },
  {
   "cell_type": "code",
   "execution_count": 5,
   "metadata": {},
   "outputs": [
    {
     "name": "stdout",
     "output_type": "stream",
     "text": [
      "Linear Regression\n",
      "Train data RMSE = 1.0224\n",
      "Test data RMSE = 1.02817\n",
      "Random Forest\n",
      "Train data RMSE = 1.01337\n",
      "Test data RMSE = 1.00695\n",
      "GBT\n",
      "Train data RMSE = 1.01106\n",
      "Test data RMSE = 1.01521\n"
     ]
    }
   ],
   "source": [
    "# combines a list of columns into a single vector column\n",
    "assembler = VectorAssembler(inputCols = column_list, outputCol=\"features\")\n",
    "\n",
    "# Index categorical features (all genre columns) which allows tree-based algorithms \n",
    "# to treat categorical features appropriately\n",
    "featureIndexer = VectorIndexer(inputCol=\"features\", outputCol=\"indexedFeatures\", maxCategories=2)\n",
    "\n",
    "model_list = [\"Linear Regression\", \"Random Forest\", \"GBT\"]\n",
    "\n",
    "for model_name in model_list:\n",
    "    if model_name == \"Linear Regression\":\n",
    "        estimator = LinearRegression(maxIter=10, regParam=0.3)\n",
    "        pipeline = Pipeline(stages=[assembler, estimator])\n",
    "    elif model_name == \"Random Forest\":\n",
    "        estimator = RandomForestRegressor(featuresCol=\"indexedFeatures\")\n",
    "        pipeline = Pipeline(stages=[assembler, featureIndexer, estimator])\n",
    "    else:\n",
    "        GBTRegressor(featuresCol=\"indexedFeatures\", maxIter=20)\n",
    "        pipeline = Pipeline(stages=[assembler, featureIndexer, estimator])\n",
    "\n",
    "    # Split the data into 80% training data and 20% testing data\n",
    "    df_train, df_test = df.randomSplit([0.8, 0.2])\n",
    "    model = pipeline.fit(df_train)\n",
    "    \n",
    "    # Obtain prediction result from the model\n",
    "    df_train_predictions = model.transform(df_train)\n",
    "    df_test_predictions = model.transform(df_test)\n",
    "    \n",
    "    # Use Root Mean Squared Error as evaluation metric to get training and testing error\n",
    "    lr_evaluator = RegressionEvaluator(predictionCol=\"prediction\", labelCol=\"label\",metricName=\"rmse\")\n",
    "    print(model_name)\n",
    "    print(\"Train data RMSE = %g\" % lr_evaluator.evaluate(df_train_predictions))\n",
    "    print(\"Test data RMSE = %g\" % lr_evaluator.evaluate(df_test_predictions))"
   ]
  }
 ],
 "metadata": {
  "kernelspec": {
   "display_name": "Python 2",
   "language": "python",
   "name": "python2"
  },
  "language_info": {
   "codemirror_mode": {
    "name": "ipython",
    "version": 2
   },
   "file_extension": ".py",
   "mimetype": "text/x-python",
   "name": "python",
   "nbconvert_exporter": "python",
   "pygments_lexer": "ipython2",
   "version": "2.7.15rc1"
  }
 },
 "nbformat": 4,
 "nbformat_minor": 2
}
